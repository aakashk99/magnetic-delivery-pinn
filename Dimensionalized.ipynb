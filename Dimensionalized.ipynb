{
 "cells": [
  {
   "cell_type": "code",
   "execution_count": 1,
   "id": "e46169f5-a9ee-41aa-9049-b0409890c078",
   "metadata": {},
   "outputs": [
    {
     "name": "stderr",
     "output_type": "stream",
     "text": [
      "2024-12-09 18:19:48.676825: I tensorflow/core/platform/cpu_feature_guard.cc:210] This TensorFlow binary is optimized to use available CPU instructions in performance-critical operations.\n",
      "To enable the following instructions: AVX2 FMA, in other operations, rebuild TensorFlow with the appropriate compiler flags.\n"
     ]
    }
   ],
   "source": [
    "# Import Libraries\n",
    "import tensorflow as tf\n",
    "import numpy as np\n",
    "import matplotlib.pyplot as plt\n",
    "import functools\n",
    "from scipy.integrate import quad\n",
    "from tensorflow.keras import regularizers"
   ]
  },
  {
   "cell_type": "code",
   "execution_count": 2,
   "id": "fd29791d-7227-404b-ae1f-69b5f6e5192f",
   "metadata": {},
   "outputs": [],
   "source": [
    "# Function used to Calculate the Magnetic Force at a Distance x\n",
    "def FM(x):\n",
    "    r = 10 ** -3\n",
    "    Mu = 4 * np.pi * 10 ** -7\n",
    "    V = (4 / 3) * np.pi * r ** 3\n",
    "    m = 2 * 10 ** -19\n",
    "    kB = 1.3803288 * 10 ** -23\n",
    "    Ms = 23.5 * 10 ** 3\n",
    "    T = 300\n",
    "\n",
    "    coth = lambda x: 1 / np.tanh(x)\n",
    "\n",
    "    a5 = -(2.5573 * 10 ** 13)\n",
    "    a4 = (2.5005 * 10 ** 12)\n",
    "    a3 = - (9.538 * 10 ** 10)\n",
    "    a2 = (1.7906 * 10 ** 9)\n",
    "    a1 = - (1.699 * 10 ** 7)\n",
    "    a0 = 69605.5\n",
    "\n",
    "    Hs = a5 * x ** 5 + a4 * x ** 4 + a3 * x ** 3 + a2 * x ** 2 +a1 * x + a0\n",
    "    abs_Hs = np.abs(Hs)\n",
    "    coth_term = coth((Mu * m / (kB * T)) * abs_Hs)\n",
    "    Mfit = Ms * (coth_term - (kB * T) / (Mu * m * abs_Hs)) * Hs / abs_Hs\n",
    "    DH = 5 * a5 * x ** 4 + 4 * a4 * x ** 3 + 3 * a3 * x ** 2 + 2 * a2 * x + a1\n",
    "    Fmx = -(V * Mu) * Mfit * DH\n",
    "\n",
    "    return Fmx\n",
    "    \n",
    "# Function used to Calculate the Time towards the Target (via Numerical Integration)\n",
    "def compute_time(z, r, Visc):\n",
    "    time, _ = quad(lambda x: (6 * np.pi * r * Visc / FM(x)), 0, z)\n",
    "    return time"
   ]
  },
  {
   "cell_type": "code",
   "execution_count": 3,
   "id": "516e991c-0995-4051-a65f-cdebb39847ad",
   "metadata": {},
   "outputs": [],
   "source": [
    "# Define Problem Values\n",
    "np.random.seed(42)\n",
    "num_samples = 6\n",
    "r = 10 ** -3\n",
    "Visc = 50\n",
    "f = functools.partial(compute_time, r=10 ** -3, Visc=50)\n",
    "L=1E-3\n",
    "noise_level = 1E3\n",
    "\n",
    "# Generate Training Data\n",
    "x_train = np.linspace(0.015, 0.02, num_samples).reshape(-1, 1)\n",
    "t_train = (np.array([f(x) for x in x_train]) + noise_level*np.random.normal(0, 1, num_samples)).reshape(-1, 1)\n",
    "x_train_scaled = x_train/L\n",
    "t_train_scaled = (np.log(t_train)).reshape(-1, 1)\n",
    "\n",
    "# Convert to TensorFlow Tensors\n",
    "x_train_tf = tf.convert_to_tensor(x_train_scaled, dtype=tf.float32)\n",
    "t_train_tf = tf.convert_to_tensor(t_train_scaled, dtype=tf.float32)\n",
    "input_train = tf.concat([x_train_tf], axis=1)\n",
    "\n",
    "# Generate Test Data for Prediction\n",
    "x_test = np.linspace(0, 0.02, 1000).reshape(-1, 1)\n",
    "t_exact = np.array([f(x) for x in x_test]).reshape(-1, 1)\n",
    "x_test_scaled = x_test/L\n",
    "\n",
    "# Convert to TensorFlow Tensors\n",
    "x_test_tf = tf.convert_to_tensor(x_test_scaled, dtype=tf.float32)\n",
    "input_test = tf.concat([x_test_tf], axis=1)"
   ]
  },
  {
   "cell_type": "code",
   "execution_count": 4,
   "id": "e27b119c-edb1-4d1b-8952-b9c92ffbe734",
   "metadata": {},
   "outputs": [],
   "source": [
    "# Define PINN Model\n",
    "class PINN(tf.keras.Model):\n",
    "    # Define PINN Architecture\n",
    "    def __init__(self, neurons = 100):\n",
    "        super(PINN, self).__init__()\n",
    "        self.dense1 = tf.keras.layers.Dense(neurons, activation='gelu', input_dim=1)\n",
    "        self.dense2 = tf.keras.layers.Dense(neurons, activation='gelu')\n",
    "        self.dense3 = tf.keras.layers.Dense(neurons, activation='gelu')\n",
    "        self.dense4 = tf.keras.layers.Dense(neurons, activation='gelu')\n",
    "        self.output_layer = tf.keras.layers.Dense(1, activation=None)\n",
    "\n",
    "    # Define Feedforward Mechanism\n",
    "    def call(self, inputs):\n",
    "        x = inputs[:, 0:1]\n",
    "        concat_input = tf.concat([x], axis=1)\n",
    "        hidden1 = self.dense1(concat_input)\n",
    "        hidden2 = self.dense2(hidden1)\n",
    "        hidden3 = self.dense3(hidden2)\n",
    "        hidden4 = self.dense4(hidden3)\n",
    "        output = self.output_layer(hidden4)\n",
    "        return output"
   ]
  },
  {
   "cell_type": "code",
   "execution_count": 5,
   "id": "35b691f5-5d68-4719-855d-96f515ae2d33",
   "metadata": {},
   "outputs": [],
   "source": [
    "# Function Used to Calculate Physics Loss\n",
    "def physics_loss(model):\n",
    "    x = np.linspace(0, 0.02, 1000).reshape(-1, 1)\n",
    "    ode = 6 * np.pi * r * Visc / FM(x)\n",
    "    x = x/L\n",
    "    x = tf.convert_to_tensor(x, dtype=tf.float32)\n",
    "    with tf.GradientTape() as tape:\n",
    "        tape.watch(x)\n",
    "        pred = model(x)\n",
    "        dT = tape.gradient(pred, x)\n",
    "    pde_residual = ode - (np.exp(pred)/L)*dT\n",
    "    return tf.reduce_mean(tf.square(pde_residual))"
   ]
  },
  {
   "cell_type": "code",
   "execution_count": 6,
   "id": "dafcb19e-6271-4113-9228-970762974242",
   "metadata": {},
   "outputs": [],
   "source": [
    "# Function Used to Train Model\n",
    "def train_model(model, x_train, y_train, epochs=10000, data_loss_weight=1e0, phys_loss_weight=1e0):\n",
    "    optimizer = tf.keras.optimizers.Adam(learning_rate=1E-4)\n",
    "\n",
    "    for epoch in range(epochs):\n",
    "        with tf.GradientTape() as tape:\n",
    "            y_pred = model(input_train)\n",
    "            data_loss = tf.reduce_mean(tf.square(y_pred - y_train))\n",
    "            phys_loss = physics_loss(model)\n",
    "            total_loss = data_loss_weight * data_loss + phys_loss_weight * phys_loss\n",
    "        \n",
    "        gradients = tape.gradient(total_loss, model.trainable_variables)\n",
    "        optimizer.apply_gradients(zip(gradients, model.trainable_variables))\n",
    "\n",
    "        if epoch % 50 == 0:\n",
    "            print(f\"Epoch {epoch}/{epochs}, Total Loss: {total_loss.numpy()}, Physics Loss: {phys_loss.numpy()}, Data Loss: {data_loss.numpy()}\")"
   ]
  },
  {
   "cell_type": "code",
   "execution_count": 7,
   "id": "ffe02262-3324-4fb2-9766-2cc06f46adef",
   "metadata": {},
   "outputs": [
    {
     "name": "stderr",
     "output_type": "stream",
     "text": [
      "/usr/local/Caskroom/miniconda/base/envs/pinn/lib/python3.9/site-packages/keras/src/layers/core/dense.py:87: UserWarning: Do not pass an `input_shape`/`input_dim` argument to a layer. When using Sequential models, prefer using an `Input(shape)` object as the first layer in the model instead.\n",
      "  super().__init__(activity_regularizer=activity_regularizer, **kwargs)\n"
     ]
    },
    {
     "name": "stdout",
     "output_type": "stream",
     "text": [
      "Epoch 0/4000, Total Loss: 116392165376.0, Physics Loss: 116392165376.0, Data Loss: 62.72676467895508\n",
      "Epoch 50/4000, Total Loss: 109728899072.0, Physics Loss: 109728899072.0, Data Loss: 17.356027603149414\n",
      "Epoch 100/4000, Total Loss: 19310751744.0, Physics Loss: 19310751744.0, Data Loss: 1.729478359222412\n",
      "Epoch 150/4000, Total Loss: 8143281152.0, Physics Loss: 8143281152.0, Data Loss: 1.0789275169372559\n",
      "Epoch 200/4000, Total Loss: 5805914112.0, Physics Loss: 5805914112.0, Data Loss: 0.838690459728241\n",
      "Epoch 250/4000, Total Loss: 4152768256.0, Physics Loss: 4152768256.0, Data Loss: 0.6059038043022156\n",
      "Epoch 300/4000, Total Loss: 1300653952.0, Physics Loss: 1300653952.0, Data Loss: 0.17380286753177643\n",
      "Epoch 350/4000, Total Loss: 188890864.0, Physics Loss: 188890864.0, Data Loss: 0.10730122774839401\n",
      "Epoch 400/4000, Total Loss: 154681632.0, Physics Loss: 154681632.0, Data Loss: 0.09921485930681229\n",
      "Epoch 450/4000, Total Loss: 151791840.0, Physics Loss: 151791840.0, Data Loss: 0.097449891269207\n",
      "Epoch 500/4000, Total Loss: 147590112.0, Physics Loss: 147590112.0, Data Loss: 0.09649623185396194\n",
      "Epoch 550/4000, Total Loss: 143767104.0, Physics Loss: 143767104.0, Data Loss: 0.09561672806739807\n",
      "Epoch 600/4000, Total Loss: 140371968.0, Physics Loss: 140371968.0, Data Loss: 0.09477704763412476\n",
      "Epoch 650/4000, Total Loss: 137291792.0, Physics Loss: 137291792.0, Data Loss: 0.09398411959409714\n",
      "Epoch 700/4000, Total Loss: 134420416.0, Physics Loss: 134420416.0, Data Loss: 0.0932396873831749\n",
      "Epoch 750/4000, Total Loss: 131663952.0, Physics Loss: 131663952.0, Data Loss: 0.09254142642021179\n",
      "Epoch 800/4000, Total Loss: 128944736.0, Physics Loss: 128944736.0, Data Loss: 0.09188652038574219\n",
      "Epoch 850/4000, Total Loss: 126209520.0, Physics Loss: 126209520.0, Data Loss: 0.09127289056777954\n",
      "Epoch 900/4000, Total Loss: 123425208.0, Physics Loss: 123425208.0, Data Loss: 0.09069564193487167\n",
      "Epoch 950/4000, Total Loss: 120576360.0, Physics Loss: 120576360.0, Data Loss: 0.09015223383903503\n",
      "Epoch 1000/4000, Total Loss: 117660928.0, Physics Loss: 117660928.0, Data Loss: 0.08964183181524277\n",
      "Epoch 1050/4000, Total Loss: 114683984.0, Physics Loss: 114683984.0, Data Loss: 0.0891619399189949\n",
      "Epoch 1100/4000, Total Loss: 111650424.0, Physics Loss: 111650424.0, Data Loss: 0.08871257305145264\n",
      "Epoch 1150/4000, Total Loss: 108569736.0, Physics Loss: 108569736.0, Data Loss: 0.08829144388437271\n",
      "Epoch 1200/4000, Total Loss: 105445472.0, Physics Loss: 105445472.0, Data Loss: 0.0878991186618805\n",
      "Epoch 1250/4000, Total Loss: 102287080.0, Physics Loss: 102287080.0, Data Loss: 0.08753100782632828\n",
      "Epoch 1300/4000, Total Loss: 99102160.0, Physics Loss: 99102160.0, Data Loss: 0.08718831092119217\n",
      "Epoch 1350/4000, Total Loss: 95893328.0, Physics Loss: 95893328.0, Data Loss: 0.08686015754938126\n",
      "Epoch 1400/4000, Total Loss: 93133328.0, Physics Loss: 93133328.0, Data Loss: 0.086941659450531\n",
      "Epoch 1450/4000, Total Loss: 89517560.0, Physics Loss: 89517560.0, Data Loss: 0.08622514456510544\n",
      "Epoch 1500/4000, Total Loss: 86750624.0, Physics Loss: 86750624.0, Data Loss: 0.08543902635574341\n",
      "Epoch 1550/4000, Total Loss: 83269696.0, Physics Loss: 83269696.0, Data Loss: 0.08575171232223511\n",
      "Epoch 1600/4000, Total Loss: 80131864.0, Physics Loss: 80131864.0, Data Loss: 0.08543393760919571\n",
      "Epoch 1650/4000, Total Loss: 77562904.0, Physics Loss: 77562904.0, Data Loss: 0.08559241890907288\n",
      "Epoch 1700/4000, Total Loss: 73926016.0, Physics Loss: 73926016.0, Data Loss: 0.08494815975427628\n",
      "Epoch 1750/4000, Total Loss: 72281248.0, Physics Loss: 72281248.0, Data Loss: 0.0853879526257515\n",
      "Epoch 1800/4000, Total Loss: 67652912.0, Physics Loss: 67652912.0, Data Loss: 0.0843973457813263\n",
      "Epoch 1850/4000, Total Loss: 64703544.0, Physics Loss: 64703544.0, Data Loss: 0.08376380056142807\n",
      "Epoch 1900/4000, Total Loss: 61360548.0, Physics Loss: 61360548.0, Data Loss: 0.08393529057502747\n",
      "Epoch 1950/4000, Total Loss: 58174728.0, Physics Loss: 58174728.0, Data Loss: 0.08365336060523987\n",
      "Epoch 2000/4000, Total Loss: 57131788.0, Physics Loss: 57131788.0, Data Loss: 0.08433419466018677\n",
      "Epoch 2050/4000, Total Loss: 51792476.0, Physics Loss: 51792476.0, Data Loss: 0.08318988233804703\n",
      "Epoch 2100/4000, Total Loss: 48631448.0, Physics Loss: 48631448.0, Data Loss: 0.08307412266731262\n",
      "Epoch 2150/4000, Total Loss: 46639388.0, Physics Loss: 46639388.0, Data Loss: 0.0834188461303711\n",
      "Epoch 2200/4000, Total Loss: 42207368.0, Physics Loss: 42207368.0, Data Loss: 0.08258987218141556\n",
      "Epoch 2250/4000, Total Loss: 38980416.0, Physics Loss: 38980416.0, Data Loss: 0.08231166750192642\n",
      "Epoch 2300/4000, Total Loss: 37659828.0, Physics Loss: 37659828.0, Data Loss: 0.08115748316049576\n",
      "Epoch 2350/4000, Total Loss: 33809392.0, Physics Loss: 33809392.0, Data Loss: 0.08248762786388397\n",
      "Epoch 2400/4000, Total Loss: 29803220.0, Physics Loss: 29803220.0, Data Loss: 0.08174983412027359\n",
      "Epoch 2450/4000, Total Loss: 26919222.0, Physics Loss: 26919222.0, Data Loss: 0.08151886612176895\n",
      "Epoch 2500/4000, Total Loss: 24154680.0, Physics Loss: 24154680.0, Data Loss: 0.08132973313331604\n",
      "Epoch 2550/4000, Total Loss: 34155008.0, Physics Loss: 34155008.0, Data Loss: 0.0832795575261116\n",
      "Epoch 2600/4000, Total Loss: 19264492.0, Physics Loss: 19264492.0, Data Loss: 0.08106838911771774\n",
      "Epoch 2650/4000, Total Loss: 17143018.0, Physics Loss: 17143018.0, Data Loss: 0.08086361736059189\n",
      "Epoch 2700/4000, Total Loss: 15272495.0, Physics Loss: 15272495.0, Data Loss: 0.08075554668903351\n",
      "Epoch 2750/4000, Total Loss: 22176866.0, Physics Loss: 22176866.0, Data Loss: 0.07888567447662354\n",
      "Epoch 2800/4000, Total Loss: 12294005.0, Physics Loss: 12294005.0, Data Loss: 0.08047246187925339\n",
      "Epoch 2850/4000, Total Loss: 11203869.0, Physics Loss: 11203869.0, Data Loss: 0.08051357418298721\n",
      "Epoch 2900/4000, Total Loss: 10269664.0, Physics Loss: 10269664.0, Data Loss: 0.08039812743663788\n",
      "Epoch 2950/4000, Total Loss: 10178521.0, Physics Loss: 10178521.0, Data Loss: 0.08077909797430038\n",
      "Epoch 3000/4000, Total Loss: 9537265.0, Physics Loss: 9537265.0, Data Loss: 0.08071918785572052\n",
      "Epoch 3050/4000, Total Loss: 8480293.0, Physics Loss: 8480293.0, Data Loss: 0.08027445524930954\n",
      "Epoch 3100/4000, Total Loss: 8068252.0, Physics Loss: 8068252.0, Data Loss: 0.08016325533390045\n",
      "Epoch 3150/4000, Total Loss: 7810147.0, Physics Loss: 7810147.0, Data Loss: 0.08025287091732025\n",
      "Epoch 3200/4000, Total Loss: 8986413.0, Physics Loss: 8986413.0, Data Loss: 0.07932202517986298\n",
      "Epoch 3250/4000, Total Loss: 7189268.0, Physics Loss: 7189268.0, Data Loss: 0.07996878027915955\n",
      "Epoch 3300/4000, Total Loss: 6948883.0, Physics Loss: 6948883.0, Data Loss: 0.07996419072151184\n",
      "Epoch 3350/4000, Total Loss: 6726804.5, Physics Loss: 6726804.5, Data Loss: 0.07994943112134933\n",
      "Epoch 3400/4000, Total Loss: 6841804.0, Physics Loss: 6841804.0, Data Loss: 0.08017749339342117\n",
      "Epoch 3450/4000, Total Loss: 6282038.0, Physics Loss: 6282038.0, Data Loss: 0.07983055710792542\n",
      "Epoch 3500/4000, Total Loss: 6063618.0, Physics Loss: 6063618.0, Data Loss: 0.07974053174257278\n",
      "Epoch 3550/4000, Total Loss: 5855154.0, Physics Loss: 5855154.0, Data Loss: 0.07966771721839905\n",
      "Epoch 3600/4000, Total Loss: 13222879.0, Physics Loss: 13222879.0, Data Loss: 0.0780346542596817\n",
      "Epoch 3650/4000, Total Loss: 5490671.5, Physics Loss: 5490671.5, Data Loss: 0.0795091912150383\n",
      "Epoch 3700/4000, Total Loss: 5315658.0, Physics Loss: 5315658.0, Data Loss: 0.07954448461532593\n",
      "Epoch 3750/4000, Total Loss: 5156017.5, Physics Loss: 5156017.5, Data Loss: 0.079484723508358\n",
      "Epoch 3800/4000, Total Loss: 21193990.0, Physics Loss: 21193990.0, Data Loss: 0.08184372633695602\n",
      "Epoch 3850/4000, Total Loss: 5147223.0, Physics Loss: 5147223.0, Data Loss: 0.07970280945301056\n",
      "Epoch 3900/4000, Total Loss: 4760604.0, Physics Loss: 4760604.0, Data Loss: 0.07935389131307602\n",
      "Epoch 3950/4000, Total Loss: 4647785.0, Physics Loss: 4647785.0, Data Loss: 0.07932983338832855\n"
     ]
    }
   ],
   "source": [
    "# Instantiate and Train Model\n",
    "model = PINN()\n",
    "train_model(model, input_train, t_train_tf, epochs=4000)"
   ]
  },
  {
   "cell_type": "code",
   "execution_count": 9,
   "id": "c9770344-0d68-45da-be6b-750cad090619",
   "metadata": {},
   "outputs": [
    {
     "data": {
      "image/png": "[encoded data removed]",
      "text/plain": [
       "<Figure size 1000x800 with 1 Axes>"
      ]
     },
     "metadata": {},
     "output_type": "display_data"
    }
   ],
   "source": [
    "# Make Predictions for Entire Interval\n",
    "t_pred = model(input_test)\n",
    "\n",
    "# Plot Predictions\n",
    "plt.figure(figsize = (10,8))\n",
    "plt.plot(x_train, t_train, 'ok', label = 'Train')\n",
    "plt.plot(x_test, t_exact, '-k',label = 'True')\n",
    "plt.plot(x_test, np.exp(t_pred), '--r', label = 'Prediction')\n",
    "plt.legend(fontsize = 15)\n",
    "plt.xlabel('x(m)', fontsize = 15)\n",
    "plt.ylabel('t(s)', fontsize = 15)\n",
    "plt.show()"
   ]
  }
 ],
 "metadata": {
  "kernelspec": {
   "display_name": "Python 3 (ipykernel)",
   "language": "python",
   "name": "python3"
  },
  "language_info": {
   "codemirror_mode": {
    "name": "ipython",
    "version": 3
   },
   "file_extension": ".py",
   "mimetype": "text/x-python",
   "name": "python",
   "nbconvert_exporter": "python",
   "pygments_lexer": "ipython3",
   "version": "3.9.19"
  }
 },
 "nbformat": 4,
 "nbformat_minor": 5
}
