{
 "cells": [
  {
   "cell_type": "code",
   "execution_count": 1,
   "id": "11aabbbc-ba52-47c2-ade1-59a6f66dcf52",
   "metadata": {},
   "outputs": [
    {
     "name": "stderr",
     "output_type": "stream",
     "text": [
      "2024-12-09 18:43:36.823176: I tensorflow/core/platform/cpu_feature_guard.cc:210] This TensorFlow binary is optimized to use available CPU instructions in performance-critical operations.\n",
      "To enable the following instructions: AVX2 FMA, in other operations, rebuild TensorFlow with the appropriate compiler flags.\n"
     ]
    }
   ],
   "source": [
    "# Import Libraries\n",
    "import tensorflow as tf\n",
    "import numpy as np\n",
    "import matplotlib.pyplot as plt\n",
    "import functools\n",
    "from scipy.integrate import quad\n",
    "from tensorflow.keras import regularizers"
   ]
  },
  {
   "cell_type": "code",
   "execution_count": 2,
   "id": "bc90b39e-debe-40f6-83d4-46888f2f81b8",
   "metadata": {},
   "outputs": [],
   "source": [
    "# Function used to Calculate the Magnetic Force at a Distance x\n",
    "def FM(x):\n",
    "    r = 1\n",
    "    Mu = 1\n",
    "    V = 1\n",
    "    m = 1\n",
    "    kB = 1\n",
    "    Ms = 1\n",
    "    T = 1\n",
    "\n",
    "    coth = lambda x: 1 / np.tanh(x)\n",
    "\n",
    "    S=1\n",
    "\n",
    "    a5 = -2.5572964937676347e-05*(S**6)\n",
    "    a4 = 0.002500536323288946*(S**5)\n",
    "    a3 = -0.09537977589057538*(S**4)\n",
    "    a2 = 1.7906115483904257*(S**3)\n",
    "    a1 = -16.990318090784122*(S**2)\n",
    "    a0 = 69.60547571766949*S\n",
    "\n",
    "    Hs = a5 * x ** 5 + a4 * x ** 4 + a3 * x ** 3 + a2 * x ** 2 +a1 * x + a0\n",
    "    abs_Hs = np.abs(Hs)\n",
    "    coth_term = coth((Mu * m / (kB * T)) * abs_Hs)\n",
    "    Mfit = Ms * (coth_term - (kB * T) / (Mu * m * abs_Hs)) * Hs / abs_Hs\n",
    "    DH = 5 * a5 * x ** 4 + 4 * a4 * x ** 3 + 3 * a3 * x ** 2 + 2 * a2 * x + a1\n",
    "    Fmx = -(V * Mu) * Mfit * DH\n",
    "\n",
    "    return Fmx\n",
    "\n",
    "# Function used to Calculate the Time towards the Target (via Numerical Integration)\n",
    "def compute_time(z, r, Visc):\n",
    "    time, _ = quad(lambda x: (6 * np.pi * r * Visc / FM(x)), 0, z)\n",
    "    return time"
   ]
  },
  {
   "cell_type": "code",
   "execution_count": 3,
   "id": "f347a428-8fea-4739-8729-53e9b45783d7",
   "metadata": {},
   "outputs": [],
   "source": [
    "# Define Problem Values\n",
    "np.random.seed(42)\n",
    "num_samples = 6\n",
    "r = 1\n",
    "Visc = 1\n",
    "f = functools.partial(compute_time, r=1, Visc=1)\n",
    "noise_level = 1E2\n",
    "\n",
    "# Generate Training Data\n",
    "x_train = np.linspace(15, 20, num_samples).reshape(-1, 1)\n",
    "t_train = (np.array([f(x) for x in x_train]) + noise_level*np.random.normal(0, 1, num_samples)).reshape(-1, 1)\n",
    "t_train_scaled = np.log(t_train).reshape(-1, 1)\n",
    "\n",
    "# Convert to TensorFlow Tensors\n",
    "x_train_tf = tf.convert_to_tensor(x_train, dtype=tf.float32)\n",
    "t_train_tf = tf.convert_to_tensor(t_train_scaled, dtype=tf.float32)\n",
    "input_train = tf.concat([x_train_tf], axis=1)\n",
    "\n",
    "# Generate Test Data for Prediction\n",
    "x_test = np.linspace(0, 20, 1000).reshape(-1, 1)\n",
    "t_exact = np.array([f(x) for x in x_test]).reshape(-1, 1)\n",
    "\n",
    "# Convert to TensorFlow Tensors\n",
    "x_test_tf = tf.convert_to_tensor(x_test, dtype=tf.float32)\n",
    "input_test = tf.concat([x_test_tf], axis=1)"
   ]
  },
  {
   "cell_type": "code",
   "execution_count": 4,
   "id": "05014bbd-8b91-4b1e-b3fb-59478f55f93e",
   "metadata": {},
   "outputs": [],
   "source": [
    "# Define PINN Model\n",
    "class PINN(tf.keras.Model):\n",
    "    # Define PINN Architecture\n",
    "    def __init__(self, neurons = 100):\n",
    "        super(PINN, self).__init__()\n",
    "        self.dense1 = tf.keras.layers.Dense(neurons, activation='gelu', input_dim=1)\n",
    "        self.dense2 = tf.keras.layers.Dense(neurons, activation='gelu')\n",
    "        self.dense3 = tf.keras.layers.Dense(neurons, activation='gelu')\n",
    "        self.dense4 = tf.keras.layers.Dense(neurons, activation='gelu')\n",
    "        self.output_layer = tf.keras.layers.Dense(1, activation=None)\n",
    "\n",
    "    # Define Feedforward Mechanism\n",
    "    def call(self, inputs):\n",
    "        x = inputs[:, 0:1]\n",
    "        concat_input = tf.concat([x], axis=1)\n",
    "        hidden1 = self.dense1(concat_input)\n",
    "        hidden2 = self.dense2(hidden1)\n",
    "        hidden3 = self.dense3(hidden2)\n",
    "        hidden4 = self.dense4(hidden3)\n",
    "        output = self.output_layer(hidden4)\n",
    "        return output"
   ]
  },
  {
   "cell_type": "code",
   "execution_count": 5,
   "id": "e0c466cf-8c70-40e5-a6b7-11ef31096c11",
   "metadata": {},
   "outputs": [],
   "source": [
    "# Function Used to Calculate Physics Loss\n",
    "def physics_loss(model):\n",
    "    x = np.linspace(0, 20, 1000).reshape(-1, 1)\n",
    "    x = tf.convert_to_tensor(x, dtype=tf.float32)\n",
    "    with tf.GradientTape() as tape:\n",
    "        tape.watch(x)\n",
    "        pred = model(x)\n",
    "        dT = tape.gradient(pred, x)\n",
    "    pde_residual = (6 * np.pi * r * Visc / FM(x)) - np.exp(pred)*dT\n",
    "    return tf.reduce_mean(tf.square(pde_residual))"
   ]
  },
  {
   "cell_type": "code",
   "execution_count": 6,
   "id": "179f67f1-a897-49b7-9cb9-631cb807d8bc",
   "metadata": {},
   "outputs": [],
   "source": [
    "# Function Used to Train Model\n",
    "def train_model(model, x_train, y_train, epochs=10000, data_loss_weight=1e0, phys_loss_weight=1e0):\n",
    "    optimizer = tf.keras.optimizers.Adam(learning_rate=1E-4)\n",
    "\n",
    "    for epoch in range(epochs):\n",
    "        with tf.GradientTape() as tape:\n",
    "            y_pred = model(input_train)\n",
    "            data_loss = tf.reduce_mean(tf.square(y_pred - y_train))\n",
    "            phys_loss = physics_loss(model)\n",
    "            total_loss = data_loss_weight * data_loss + phys_loss_weight * phys_loss\n",
    "        \n",
    "        gradients = tape.gradient(total_loss, model.trainable_variables)\n",
    "        optimizer.apply_gradients(zip(gradients, model.trainable_variables))\n",
    "\n",
    "        if epoch % 50 == 0:\n",
    "            print(f\"Epoch {epoch}/{epochs}, Total Loss: {total_loss.numpy()}, Physics Loss: {phys_loss.numpy()}, Data Loss: {data_loss.numpy()}\")"
   ]
  },
  {
   "cell_type": "code",
   "execution_count": 7,
   "id": "d572b062-3c99-4362-9844-52ed42292a9c",
   "metadata": {
    "scrolled": true
   },
   "outputs": [
    {
     "name": "stderr",
     "output_type": "stream",
     "text": [
      "/usr/local/Caskroom/miniconda/base/envs/pinn/lib/python3.9/site-packages/keras/src/layers/core/dense.py:87: UserWarning: Do not pass an `input_shape`/`input_dim` argument to a layer. When using Sequential models, prefer using an `Input(shape)` object as the first layer in the model instead.\n",
      "  super().__init__(activity_regularizer=activity_regularizer, **kwargs)\n"
     ]
    },
    {
     "name": "stdout",
     "output_type": "stream",
     "text": [
      "Epoch 0/4000, Total Loss: 4130.41943359375, Physics Loss: 4093.2666015625, Data Loss: 37.15299987792969\n",
      "Epoch 50/4000, Total Loss: 681.0112915039062, Physics Loss: 679.3994140625, Data Loss: 1.6118496656417847\n",
      "Epoch 100/4000, Total Loss: 366.3426513671875, Physics Loss: 365.6022644042969, Data Loss: 0.7403958439826965\n",
      "Epoch 150/4000, Total Loss: 185.35751342773438, Physics Loss: 184.9956817626953, Data Loss: 0.3618345558643341\n",
      "Epoch 200/4000, Total Loss: 84.3302993774414, Physics Loss: 84.21824645996094, Data Loss: 0.11205613613128662\n",
      "Epoch 250/4000, Total Loss: 13.269932746887207, Physics Loss: 13.230591773986816, Data Loss: 0.03934058919548988\n",
      "Epoch 300/4000, Total Loss: 12.463005065917969, Physics Loss: 12.43195915222168, Data Loss: 0.031046317890286446\n",
      "Epoch 350/4000, Total Loss: 12.357667922973633, Physics Loss: 12.328689575195312, Data Loss: 0.02897869236767292\n",
      "Epoch 400/4000, Total Loss: 11.942777633666992, Physics Loss: 11.91477108001709, Data Loss: 0.028006525710225105\n",
      "Epoch 450/4000, Total Loss: 11.501936912536621, Physics Loss: 11.47469425201416, Data Loss: 0.027242319658398628\n",
      "Epoch 500/4000, Total Loss: 11.087401390075684, Physics Loss: 11.06083869934082, Data Loss: 0.02656303346157074\n",
      "Epoch 550/4000, Total Loss: 10.69702434539795, Physics Loss: 10.671066284179688, Data Loss: 0.025958240032196045\n",
      "Epoch 600/4000, Total Loss: 10.328206062316895, Physics Loss: 10.302780151367188, Data Loss: 0.025426313281059265\n",
      "Epoch 650/4000, Total Loss: 9.979978561401367, Physics Loss: 9.955025672912598, Data Loss: 0.024952644482254982\n",
      "Epoch 700/4000, Total Loss: 9.64641284942627, Physics Loss: 9.621898651123047, Data Loss: 0.024513883516192436\n",
      "Epoch 750/4000, Total Loss: 9.319735527038574, Physics Loss: 9.295632362365723, Data Loss: 0.0241029504686594\n",
      "Epoch 800/4000, Total Loss: 8.996153831481934, Physics Loss: 8.972437858581543, Data Loss: 0.023716134950518608\n",
      "Epoch 850/4000, Total Loss: 8.6742582321167, Physics Loss: 8.650911331176758, Data Loss: 0.02334648184478283\n",
      "Epoch 900/4000, Total Loss: 8.351462364196777, Physics Loss: 8.328479766845703, Data Loss: 0.022982662543654442\n",
      "Epoch 950/4000, Total Loss: 8.023438453674316, Physics Loss: 8.000821113586426, Data Loss: 0.022617198526859283\n",
      "Epoch 1000/4000, Total Loss: 7.686447620391846, Physics Loss: 7.6642022132873535, Data Loss: 0.022245509549975395\n",
      "Epoch 1050/4000, Total Loss: 7.341611862182617, Physics Loss: 7.319740295410156, Data Loss: 0.021871546283364296\n",
      "Epoch 1100/4000, Total Loss: 6.993962287902832, Physics Loss: 6.97245979309082, Data Loss: 0.021502291783690453\n",
      "Epoch 1150/4000, Total Loss: 6.6464385986328125, Physics Loss: 6.625296592712402, Data Loss: 0.021142052486538887\n",
      "Epoch 1200/4000, Total Loss: 6.2964887619018555, Physics Loss: 6.275698184967041, Data Loss: 0.02079065516591072\n",
      "Epoch 1250/4000, Total Loss: 5.936175346374512, Physics Loss: 5.915738582611084, Data Loss: 0.02043662779033184\n",
      "Epoch 1300/4000, Total Loss: 5.545178413391113, Physics Loss: 5.525115013122559, Data Loss: 0.020063409581780434\n",
      "Epoch 1350/4000, Total Loss: 5.110539436340332, Physics Loss: 5.0908613204956055, Data Loss: 0.019678214564919472\n",
      "Epoch 1400/4000, Total Loss: 4.6327033042907715, Physics Loss: 4.61340856552124, Data Loss: 0.019294671714305878\n",
      "Epoch 1450/4000, Total Loss: 4.498052597045898, Physics Loss: 4.480196475982666, Data Loss: 0.017856290563941002\n",
      "Epoch 1500/4000, Total Loss: 3.617413282394409, Physics Loss: 3.5986924171447754, Data Loss: 0.018720773980021477\n",
      "Epoch 1550/4000, Total Loss: 3.1125810146331787, Physics Loss: 3.0944302082061768, Data Loss: 0.01815088652074337\n",
      "Epoch 1600/4000, Total Loss: 2.655172109603882, Physics Loss: 2.636927843093872, Data Loss: 0.018244264647364616\n",
      "Epoch 1650/4000, Total Loss: 2.240612268447876, Physics Loss: 2.2225732803344727, Data Loss: 0.0180389191955328\n",
      "Epoch 1700/4000, Total Loss: 1.9116041660308838, Physics Loss: 1.8940666913986206, Data Loss: 0.017537521198391914\n",
      "Epoch 1750/4000, Total Loss: 1.617716908454895, Physics Loss: 1.5999964475631714, Data Loss: 0.017720481380820274\n",
      "Epoch 1800/4000, Total Loss: 1.4044076204299927, Physics Loss: 1.3868235349655151, Data Loss: 0.01758408546447754\n",
      "Epoch 1850/4000, Total Loss: 1.2429007291793823, Physics Loss: 1.2254666090011597, Data Loss: 0.017434129491448402\n",
      "Epoch 1900/4000, Total Loss: 2.860860824584961, Physics Loss: 2.8453800678253174, Data Loss: 0.01548068504780531\n",
      "Epoch 1950/4000, Total Loss: 1.0207332372665405, Physics Loss: 1.0036011934280396, Data Loss: 0.017132053151726723\n",
      "Epoch 2000/4000, Total Loss: 0.9386110901832581, Physics Loss: 0.921533465385437, Data Loss: 0.017077650874853134\n",
      "Epoch 2050/4000, Total Loss: 0.8663371205329895, Physics Loss: 0.8493421673774719, Data Loss: 0.01699492521584034\n",
      "Epoch 2100/4000, Total Loss: 0.8138158917427063, Physics Loss: 0.7971501350402832, Data Loss: 0.016665766015648842\n",
      "Epoch 2150/4000, Total Loss: 0.7403475046157837, Physics Loss: 0.7236086130142212, Data Loss: 0.016738882288336754\n",
      "Epoch 2200/4000, Total Loss: 0.6729145646095276, Physics Loss: 0.6562392711639404, Data Loss: 0.01667526736855507\n",
      "Epoch 2250/4000, Total Loss: 2.4857704639434814, Physics Loss: 2.47091007232666, Data Loss: 0.014860422350466251\n",
      "Epoch 2300/4000, Total Loss: 0.5444313287734985, Physics Loss: 0.5278187394142151, Data Loss: 0.0166125800460577\n",
      "Epoch 2350/4000, Total Loss: 0.47863852977752686, Physics Loss: 0.4622257649898529, Data Loss: 0.016412777826189995\n",
      "Epoch 2400/4000, Total Loss: 0.43409740924835205, Physics Loss: 0.4177674651145935, Data Loss: 0.01632993295788765\n",
      "Epoch 2450/4000, Total Loss: 0.3968295156955719, Physics Loss: 0.3805684447288513, Data Loss: 0.016261084005236626\n",
      "Epoch 2500/4000, Total Loss: 0.49798154830932617, Physics Loss: 0.4822736084461212, Data Loss: 0.015707941725850105\n",
      "Epoch 2550/4000, Total Loss: 0.34277263283729553, Physics Loss: 0.32657256722450256, Data Loss: 0.016200056299567223\n",
      "Epoch 2600/4000, Total Loss: 0.31710416078567505, Physics Loss: 0.30100762844085693, Data Loss: 0.01609652489423752\n",
      "Epoch 2650/4000, Total Loss: 0.2962866723537445, Physics Loss: 0.28024253249168396, Data Loss: 0.016044151037931442\n",
      "Epoch 2700/4000, Total Loss: 0.27792033553123474, Physics Loss: 0.26192501187324524, Data Loss: 0.015995310619473457\n",
      "Epoch 2750/4000, Total Loss: 0.2635915279388428, Physics Loss: 0.24758943915367126, Data Loss: 0.016002075746655464\n",
      "Epoch 2800/4000, Total Loss: 0.26686587929725647, Physics Loss: 0.2507760524749756, Data Loss: 0.016089823096990585\n",
      "Epoch 2850/4000, Total Loss: 0.23723295331001282, Physics Loss: 0.22133184969425201, Data Loss: 0.015901103615760803\n",
      "Epoch 2900/4000, Total Loss: 0.22547796368598938, Physics Loss: 0.20964452624320984, Data Loss: 0.015833435580134392\n",
      "Epoch 2950/4000, Total Loss: 0.2156580537557602, Physics Loss: 0.19985783100128174, Data Loss: 0.015800220891833305\n",
      "Epoch 3000/4000, Total Loss: 3.2558228969573975, Physics Loss: 3.2375357151031494, Data Loss: 0.018287215381860733\n",
      "Epoch 3050/4000, Total Loss: 0.20996850728988647, Physics Loss: 0.19436319172382355, Data Loss: 0.015605309046804905\n",
      "Epoch 3100/4000, Total Loss: 0.19312646985054016, Physics Loss: 0.17742924392223358, Data Loss: 0.015697231516242027\n",
      "Epoch 3150/4000, Total Loss: 0.18672627210617065, Physics Loss: 0.17105236649513245, Data Loss: 0.015673913061618805\n",
      "Epoch 3200/4000, Total Loss: 0.1809406578540802, Physics Loss: 0.1652945876121521, Data Loss: 0.01564607210457325\n",
      "Epoch 3250/4000, Total Loss: 1.4845640659332275, Physics Loss: 1.4674123525619507, Data Loss: 0.017151666805148125\n",
      "Epoch 3300/4000, Total Loss: 0.17536069452762604, Physics Loss: 0.15984617173671722, Data Loss: 0.01551451813429594\n",
      "Epoch 3350/4000, Total Loss: 0.16761700809001923, Physics Loss: 0.15204337239265442, Data Loss: 0.015573636628687382\n",
      "Epoch 3400/4000, Total Loss: 0.1635901927947998, Physics Loss: 0.14804251492023468, Data Loss: 0.015547684393823147\n",
      "Epoch 3450/4000, Total Loss: 0.1599554717540741, Physics Loss: 0.14442801475524902, Data Loss: 0.015527459792792797\n",
      "Epoch 3500/4000, Total Loss: 0.27300718426704407, Physics Loss: 0.25793397426605225, Data Loss: 0.015073210000991821\n",
      "Epoch 3550/4000, Total Loss: 0.15520909428596497, Physics Loss: 0.13970327377319336, Data Loss: 0.01550582516938448\n",
      "Epoch 3600/4000, Total Loss: 0.1517309695482254, Physics Loss: 0.13627463579177856, Data Loss: 0.01545634027570486\n",
      "Epoch 3650/4000, Total Loss: 0.1491076499223709, Physics Loss: 0.1336643397808075, Data Loss: 0.015443310141563416\n",
      "Epoch 3700/4000, Total Loss: 0.14684250950813293, Physics Loss: 0.13140633702278137, Data Loss: 0.015436169691383839\n",
      "Epoch 3750/4000, Total Loss: 0.14978165924549103, Physics Loss: 0.13446566462516785, Data Loss: 0.015315989963710308\n",
      "Epoch 3800/4000, Total Loss: 0.14351335167884827, Physics Loss: 0.12813517451286316, Data Loss: 0.015378176234662533\n",
      "Epoch 3850/4000, Total Loss: 0.14150533080101013, Physics Loss: 0.12613028287887573, Data Loss: 0.015375046990811825\n",
      "Epoch 3900/4000, Total Loss: 0.1397673487663269, Physics Loss: 0.1244104877114296, Data Loss: 0.015356861986219883\n",
      "Epoch 3950/4000, Total Loss: 0.6158018708229065, Physics Loss: 0.6013240218162537, Data Loss: 0.014477825723588467\n"
     ]
    }
   ],
   "source": [
    "# Instantiate and Train Model\n",
    "model = PINN()\n",
    "train_model(model, input_train, t_train_tf, epochs=4000)"
   ]
  },
  {
   "cell_type": "code",
   "execution_count": 8,
   "id": "64a6468f-b252-4b8b-b516-5f5f46484d51",
   "metadata": {},
   "outputs": [
    {
     "data": {
      "image/png": "[encoded data removed]",
      "text/plain": [
       "<Figure size 1000x800 with 1 Axes>"
      ]
     },
     "metadata": {},
     "output_type": "display_data"
    }
   ],
   "source": [
    "# Make Predictions for Entire Interval\n",
    "t_pred = model(input_test)\n",
    "\n",
    "# Plot Predictions\n",
    "plt.figure(figsize = (10,8))\n",
    "plt.plot(x_train, t_train, 'ok', label = 'Train')\n",
    "#plt.plot(x_train, t_train_scaled, 'or', label = 'Scaled')\n",
    "plt.plot(x_test, t_exact, '-k',label = 'True')\n",
    "plt.plot(x_test, np.exp(t_pred), '--r', label = 'Prediction')\n",
    "plt.legend(fontsize = 15)\n",
    "plt.xlabel('x(mm)', fontsize = 15)\n",
    "plt.ylabel('t(s)', fontsize = 15)\n",
    "plt.show()"
   ]
  },
  {
   "cell_type": "code",
   "execution_count": null,
   "id": "5225dc23-3908-4ae8-bb4f-d15290db08f3",
   "metadata": {},
   "outputs": [],
   "source": []
  }
 ],
 "metadata": {
  "kernelspec": {
   "display_name": "Python 3 (ipykernel)",
   "language": "python",
   "name": "python3"
  },
  "language_info": {
   "codemirror_mode": {
    "name": "ipython",
    "version": 3
   },
   "file_extension": ".py",
   "mimetype": "text/x-python",
   "name": "python",
   "nbconvert_exporter": "python",
   "pygments_lexer": "ipython3",
   "version": "3.9.19"
  }
 },
 "nbformat": 4,
 "nbformat_minor": 5
}
